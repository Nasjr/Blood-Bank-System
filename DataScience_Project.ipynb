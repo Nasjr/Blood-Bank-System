{
  "nbformat": 4,
  "nbformat_minor": 0,
  "metadata": {
    "colab": {
      "provenance": [],
      "mount_file_id": "1_nlLW4Ps8xDedCsjnPrhRL_gKshLN-3S",
      "authorship_tag": "ABX9TyMLQrg+oGfRwPOStXQSUtzL",
      "include_colab_link": true
    },
    "kernelspec": {
      "name": "python3",
      "display_name": "Python 3"
    },
    "language_info": {
      "name": "python"
    }
  },
  "cells": [
    {
      "cell_type": "markdown",
      "metadata": {
        "id": "view-in-github",
        "colab_type": "text"
      },
      "source": [
        "<a href=\"https://colab.research.google.com/github/Nasjr/Blood-Bank-System/blob/master/DataScience_Project.ipynb\" target=\"_parent\"><img src=\"https://colab.research.google.com/assets/colab-badge.svg\" alt=\"Open In Colab\"/></a>"
      ]
    },
    {
      "cell_type": "code",
      "execution_count": 1,
      "metadata": {
        "id": "9LzKyeFrYYI9"
      },
      "outputs": [],
      "source": [
        "import pandas as pd\n",
        "import numpy as np\n",
        "import os\n",
        "import matplotlib.pyplot as plt\n",
        "import matplotlib.image as mpimg\n",
        "from PIL import Image\n",
        "from sklearn.model_selection import train_test_split\n",
        "from google.colab.patches import cv2_imshow \n",
        "from random import shuffle\n",
        "import random\n",
        "from sklearn.preprocessing import StandardScaler"
      ]
    },
    {
      "cell_type": "code",
      "source": [
        "from zipfile import ZipFile\n",
        "\n",
        "dataset = '/content/drive/MyDrive/DataScience_Project/fulldata_resized (1).zip'\n",
        "\n",
        "with ZipFile(dataset, 'r') as zip:\n",
        "  zip.extractall()\n",
        "  print('The dataset is extracted')"
      ],
      "metadata": {
        "colab": {
          "base_uri": "https://localhost:8080/"
        },
        "id": "IAmskDB6ZfbN",
        "outputId": "0ab77973-e450-4789-c20c-49a4c83e2822"
      },
      "execution_count": 2,
      "outputs": [
        {
          "output_type": "stream",
          "name": "stdout",
          "text": [
            "The dataset is extracted\n"
          ]
        }
      ]
    },
    {
      "cell_type": "code",
      "source": [
        "dataset_path='/content/fulldata_resized'\n",
        "file_names=os.listdir(dataset_path)\n",
        "#print the first three file names\n",
        "print(file_names[0:3])\n",
        "#The data is shuffeled which is good but we are goining to make sure it is random\n",
        "for i in range(5):\n",
        "  random.seed(4)\n",
        "  random.shuffle(file_names)\n",
        "print('shffuled list: ',file_names[0:10])"
      ],
      "metadata": {
        "colab": {
          "base_uri": "https://localhost:8080/"
        },
        "id": "JtUzBK3WZfeN",
        "outputId": "7ce4bec5-8219-4b20-bee0-93c2535456cd"
      },
      "execution_count": 3,
      "outputs": [
        {
          "output_type": "stream",
          "name": "stdout",
          "text": [
            "['dog874.jpeg', 'chicken1468.jpeg', 'horse10.jpeg']\n",
            "shffuled list:  ['chicken747.jpeg', 'dog1557.jpeg', 'chicken1306.jpeg', 'butterfly762.jpeg', 'horse1238.jpeg', 'butterfly343.jpeg', 'cat1352.jpeg', 'dog763.jpeg', 'cow232.jpeg', 'cow115.jpeg']\n"
          ]
        }
      ]
    },
    {
      "cell_type": "markdown",
      "source": [
        "# Categories\n",
        "\n",
        "**In this Dataset we have several Categories and we are going to show them below :**\n",
        "\n"
      ],
      "metadata": {
        "id": "4Su-T2-7lrdE"
      }
    },
    {
      "cell_type": "code",
      "source": [
        "D_counts={'dog':0,'cat':0,\"butterfly\":0,\"horse\":0,'cow':0,'chicken':0,\"error\":0}\n",
        "for i in range(len(file_names)):\n",
        "    if file_names[i][0:3]=='dog':\n",
        "        D_counts['dog']+=1\n",
        "    elif file_names[i][0:3]=='cat':\n",
        "        D_counts['cat']+=1\n",
        "    elif file_names[i][0:9]=='butterfly':\n",
        "        D_counts['butterfly']+=1\n",
        "    elif file_names[i][0:5]=='horse':\n",
        "        D_counts['horse']+=1\n",
        "    elif file_names[i][0:3]=='cow':\n",
        "        D_counts['cow']+=1\n",
        "    elif file_names[i][0:7]=='chicken':\n",
        "        D_counts['chicken']+=1\n",
        "    else:\n",
        "        D_counts['error']+=1\n",
        "print(D_counts)"
      ],
      "metadata": {
        "colab": {
          "base_uri": "https://localhost:8080/"
        },
        "id": "ZYWeip5oZfgt",
        "outputId": "e6c558f7-956d-4c9f-ec69-27f4a3dce8fe"
      },
      "execution_count": 4,
      "outputs": [
        {
          "output_type": "stream",
          "name": "stdout",
          "text": [
            "{'dog': 1755, 'cat': 1668, 'butterfly': 1496, 'horse': 1686, 'cow': 1566, 'chicken': 1547, 'error': 0}\n"
          ]
        }
      ]
    },
    {
      "cell_type": "markdown",
      "source": [
        "**As We see we have :**\n",
        "\n",
        "\n",
        "*   Dogs -> 1775 image\n",
        "*   cats -> 1668 image\n",
        "*   butterfly -> 1496 image\n",
        "*   horse -> 1686 image\n",
        "*   cow -> 1566 image\n",
        "*   chicken -> 1547 image\n",
        "\n",
        "\n",
        "\n",
        "**Each Category Must be mapped to a number from (1 to n) where n is the number of categories :**\n",
        "\n",
        "\n",
        "*   Dogs --> 0\n",
        "*   cats --> 1\n",
        "*   butterfly --> 2\n",
        "*   horse --> 3\n",
        "*   cow --> 4\n",
        "*   chicken --> 5\n",
        "\n",
        "\n",
        "\n",
        "\n",
        "\n",
        "\n"
      ],
      "metadata": {
        "id": "-LFFbMRdmaRU"
      }
    },
    {
      "cell_type": "code",
      "source": [
        "#We need to list one for the filename and one for the labels\n",
        "\n",
        "labels=[]\n",
        "imgnames=[]\n",
        "\n",
        "for i in range(len(file_names)):\n",
        "  \n",
        "  #Store the image names\n",
        "  imgnames.append(file_names[i])\n",
        "  \n",
        "  #Store the labels of the images\n",
        "  if file_names[i][0:3]=='dog':\n",
        "        labels.append(0)\n",
        "  elif file_names[i][0:3]=='cat':\n",
        "        labels.append(1)\n",
        "  elif file_names[i][0:9]=='butterfly':\n",
        "        labels.append(2)\n",
        "  elif file_names[i][0:5]=='horse':\n",
        "        labels.append(3)\n",
        "  elif file_names[i][0:3]=='cow':\n",
        "        labels.append(4)\n",
        "  elif file_names[i][0:7]=='chicken':\n",
        "        labels.append(5)\n",
        "  else:\n",
        "        print('This is an error')\n",
        "\n",
        "print(imgnames[0:7])\n",
        "print(labels[0:7])"
      ],
      "metadata": {
        "colab": {
          "base_uri": "https://localhost:8080/"
        },
        "id": "I0T_GetBZfjV",
        "outputId": "f76f44a7-65a3-45c7-dcbd-04f20a7b9159"
      },
      "execution_count": 5,
      "outputs": [
        {
          "output_type": "stream",
          "name": "stdout",
          "text": [
            "['chicken747.jpeg', 'dog1557.jpeg', 'chicken1306.jpeg', 'butterfly762.jpeg', 'horse1238.jpeg', 'butterfly343.jpeg', 'cat1352.jpeg']\n",
            "[5, 0, 5, 2, 3, 2, 1]\n"
          ]
        }
      ]
    },
    {
      "cell_type": "code",
      "source": [
        "import cv2\n",
        "import glob\n",
        "\n",
        "image_directory = '/content/fulldata_resized/'\n",
        "\n",
        "\n",
        "files = []\n",
        "\n",
        "for name in file_names:\n",
        "  files.append(image_directory+name)\n",
        "#check for file names\n",
        "print(files[0:3])\n",
        "\n",
        "\n",
        "#convert all images into a MD numpy array aka 'Tensor'\n",
        "all_images_array=np.asarray([cv2.imread(file) for file in files] )\n"
      ],
      "metadata": {
        "colab": {
          "base_uri": "https://localhost:8080/"
        },
        "id": "thcNbhclZfl9",
        "outputId": "28240cbf-37c0-426b-c09e-d900eca7b325"
      },
      "execution_count": 6,
      "outputs": [
        {
          "output_type": "stream",
          "name": "stdout",
          "text": [
            "['/content/fulldata_resized/chicken747.jpeg', '/content/fulldata_resized/dog1557.jpeg', '/content/fulldata_resized/chicken1306.jpeg']\n"
          ]
        }
      ]
    },
    {
      "cell_type": "code",
      "source": [
        "print(all_images_array.shape)"
      ],
      "metadata": {
        "colab": {
          "base_uri": "https://localhost:8080/"
        },
        "id": "j66wPIIUZfol",
        "outputId": "61d6647b-c87f-4d66-e44f-1abfe06121bd"
      },
      "execution_count": 7,
      "outputs": [
        {
          "output_type": "stream",
          "name": "stdout",
          "text": [
            "(9718, 244, 244, 3)\n"
          ]
        }
      ]
    },
    {
      "cell_type": "code",
      "source": [
        "#shape the data into x and y variables for training and testing\n",
        "\n",
        "X=all_images_array\n",
        "y=np.asarray(labels)\n"
      ],
      "metadata": {
        "id": "cry3XxZfrfn9"
      },
      "execution_count": 8,
      "outputs": []
    },
    {
      "cell_type": "markdown",
      "source": [
        "# It Is time to split our data into Training and testing Data for our model using (train_test_split) function :"
      ],
      "metadata": {
        "id": "zXeR3RxPsEmO"
      }
    },
    {
      "cell_type": "code",
      "source": [
        "x_train,x_test,y_train,y_test=train_test_split(X,y, test_size=0.33,stratify=y,random_state=42)"
      ],
      "metadata": {
        "id": "7q2iNhbqrfqc"
      },
      "execution_count": 9,
      "outputs": []
    },
    {
      "cell_type": "code",
      "source": [
        "print(\"training images: \")\n",
        "print(x_train.shape,y_train.shape)\n",
        "print('-'*50)\n",
        "print(\"testing images: \")\n",
        "print(x_test.shape,y_test.shape)\n"
      ],
      "metadata": {
        "colab": {
          "base_uri": "https://localhost:8080/"
        },
        "id": "3hk-D9oLrftF",
        "outputId": "419c8372-2096-4ac4-f771-9a8d7e0ea49c"
      },
      "execution_count": 10,
      "outputs": [
        {
          "output_type": "stream",
          "name": "stdout",
          "text": [
            "training images: \n",
            "(6511, 244, 244, 3) (6511,)\n",
            "--------------------------------------------------\n",
            "testing images: \n",
            "(3207, 244, 244, 3) (3207,)\n"
          ]
        }
      ]
    },
    {
      "cell_type": "code",
      "source": [
        "#take the first 4000 train image and scale them\n",
        "x_train_scaled_4000img=x_train[0:4000]/255"
      ],
      "metadata": {
        "id": "4Cen0GZZ3lNz"
      },
      "execution_count": 11,
      "outputs": []
    },
    {
      "cell_type": "code",
      "source": [
        "#take the first 3000 test image and scale them\n",
        "x_test_scaled_2000img=x_test[0:2000]/255"
      ],
      "metadata": {
        "id": "W-AC7tU84MOS"
      },
      "execution_count": 12,
      "outputs": []
    },
    {
      "cell_type": "markdown",
      "source": [
        "**Scalling the Data values so that the range is between 0-1 to avoid overfitting and avoid giving weights imbalanced importance values :**"
      ],
      "metadata": {
        "id": "h7UBIKXouMlz"
      }
    },
    {
      "cell_type": "code",
      "source": [],
      "metadata": {
        "id": "BZWZori3rfx1"
      },
      "execution_count": null,
      "outputs": []
    },
    {
      "cell_type": "markdown",
      "source": [
        "# Model Creation : "
      ],
      "metadata": {
        "id": "5qC89AD93UXA"
      }
    },
    {
      "cell_type": "code",
      "source": [],
      "metadata": {
        "id": "gAfK4doo3TyH"
      },
      "execution_count": null,
      "outputs": []
    },
    {
      "cell_type": "code",
      "source": [],
      "metadata": {
        "id": "JkPjbzBD3T0u"
      },
      "execution_count": null,
      "outputs": []
    },
    {
      "cell_type": "code",
      "source": [],
      "metadata": {
        "id": "OZC8mlxJ3T3m"
      },
      "execution_count": null,
      "outputs": []
    },
    {
      "cell_type": "code",
      "source": [],
      "metadata": {
        "id": "X7jwUfxA3T6f"
      },
      "execution_count": null,
      "outputs": []
    },
    {
      "cell_type": "code",
      "source": [],
      "metadata": {
        "id": "UifMIEdhrf0V"
      },
      "execution_count": null,
      "outputs": []
    }
  ]
}